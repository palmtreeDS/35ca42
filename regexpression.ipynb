{
  "nbformat": 4,
  "nbformat_minor": 0,
  "metadata": {
    "colab": {
      "name": "regexpression.ipynb",
      "provenance": [],
      "collapsed_sections": [],
      "authorship_tag": "ABX9TyOF5tX7J11Iz1rifKvSCfHu",
      "include_colab_link": true
    },
    "kernelspec": {
      "name": "python3",
      "display_name": "Python 3"
    },
    "language_info": {
      "name": "python"
    }
  },
  "cells": [
    {
      "cell_type": "markdown",
      "metadata": {
        "id": "view-in-github",
        "colab_type": "text"
      },
      "source": [
        "<a href=\"https://colab.research.google.com/github/palmtreeDS/35ca42/blob/main/regexpression.ipynb\" target=\"_parent\"><img src=\"https://colab.research.google.com/assets/colab-badge.svg\" alt=\"Open In Colab\"/></a>"
      ]
    },
    {
      "cell_type": "code",
      "execution_count": null,
      "metadata": {
        "id": "7fEZAokyGxug"
      },
      "outputs": [],
      "source": [
        "# The re.search() method takes a regular expression pattern and a string\n",
        "# and searches for that pattern within the string\n",
        "#Syntax\n",
        "# match = re.search(pat,str)"
      ]
    },
    {
      "cell_type": "code",
      "source": [
        " import re"
      ],
      "metadata": {
        "id": "x84yBLtFIYtw"
      },
      "execution_count": null,
      "outputs": []
    },
    {
      "cell_type": "code",
      "source": [
        ""
      ],
      "metadata": {
        "id": "DbxMGHO9KV8p"
      },
      "execution_count": null,
      "outputs": []
    },
    {
      "cell_type": "code",
      "source": [
        "import re\n",
        "txt = \"The rain in spain\"\n",
        "x = re.search(r\"^The.*Spain$\",txt)\n",
        "\n",
        "if x:\n",
        "  print(\"YES! We have a match!\")\n",
        "else:\n",
        "  print(\"No Match\")"
      ],
      "metadata": {
        "colab": {
          "base_uri": "https://localhost:8080/"
        },
        "id": "FNEfIzkvIxMN",
        "outputId": "b6c8bdd6-67f2-4d6b-f603-599fccc0d6e5"
      },
      "execution_count": null,
      "outputs": [
        {
          "output_type": "stream",
          "name": "stdout",
          "text": [
            "No Match\n"
          ]
        }
      ]
    },
    {
      "cell_type": "markdown",
      "source": [
        ""
      ],
      "metadata": {
        "id": "hdQi2C07MBZO"
      }
    },
    {
      "cell_type": "code",
      "source": [
        "str = 'an example word:cat!!'\n",
        "match = re.search('word:\\w\\w\\w', str)\n",
        "\n",
        "if match:\n",
        "  print('found', match.group())\n",
        "else:\n",
        "  print('did not find')"
      ],
      "metadata": {
        "colab": {
          "base_uri": "https://localhost:8080/"
        },
        "id": "datA9QLZJE3o",
        "outputId": "1c4e6d9c-9248-4d48-c30e-9792035c390e"
      },
      "execution_count": null,
      "outputs": [
        {
          "output_type": "stream",
          "name": "stdout",
          "text": [
            "found word:cat\n"
          ]
        }
      ]
    },
    {
      "cell_type": "code",
      "source": [
        "str1 = 'Joke:what do you call a pig with three eyes? piiig!'\n",
        "match = re.search(r'iii', 'piiig')\n",
        "\n",
        "if match:\n",
        "  print('found',match.group())\n",
        "else:\n",
        "  print('not Found')"
      ],
      "metadata": {
        "colab": {
          "base_uri": "https://localhost:8080/"
        },
        "id": "FDbxheVRMCvi",
        "outputId": "4be7cc54-e93b-45bd-bb77-2920b97f5068"
      },
      "execution_count": null,
      "outputs": [
        {
          "output_type": "stream",
          "name": "stdout",
          "text": [
            "found iii\n"
          ]
        }
      ]
    },
    {
      "cell_type": "code",
      "source": [
        "match = re.search(r'igs', 'piiig')\n",
        "\n",
        "if match:\n",
        "  print('found',match.group())\n",
        "else:\n",
        "  print('Not Found')"
      ],
      "metadata": {
        "colab": {
          "base_uri": "https://localhost:8080/"
        },
        "id": "_YUhcpebM3pv",
        "outputId": "f95fa6ac-5011-4dc4-81cd-d5309fd757ce"
      },
      "execution_count": null,
      "outputs": [
        {
          "output_type": "stream",
          "name": "stdout",
          "text": [
            "Not Found\n"
          ]
        }
      ]
    },
    {
      "cell_type": "code",
      "source": [
        "match = re.search(r'Joke', str1)\n",
        "\n",
        "if match:\n",
        "  print('found',match.group())\n",
        "else:\n",
        "  print('Not Found')"
      ],
      "metadata": {
        "colab": {
          "base_uri": "https://localhost:8080/"
        },
        "id": "JZNi0LQcNUFB",
        "outputId": "c00f707d-91c8-402d-8691-8a4ec8e84c44"
      },
      "execution_count": null,
      "outputs": [
        {
          "output_type": "stream",
          "name": "stdout",
          "text": [
            "found Joke\n"
          ]
        }
      ]
    },
    {
      "cell_type": "code",
      "source": [
        "match = re.search(r'ok', 'Joke')\n",
        "\n",
        "if match:\n",
        "  print('found',match.group())\n",
        "else:\n",
        "  print('Not Found')"
      ],
      "metadata": {
        "colab": {
          "base_uri": "https://localhost:8080/"
        },
        "id": "vTDNP9k5NfzA",
        "outputId": "0e99dc7c-48c9-482c-8fed-8b462cbc17ad"
      },
      "execution_count": null,
      "outputs": [
        {
          "output_type": "stream",
          "name": "stdout",
          "text": [
            "found ok\n"
          ]
        }
      ]
    },
    {
      "cell_type": "code",
      "source": [
        "match = re.search(r'.iii.', str1)\n",
        "\n",
        "if match:\n",
        "  print('found',match.group())\n",
        "else:\n",
        "  print('Not Found')"
      ],
      "metadata": {
        "colab": {
          "base_uri": "https://localhost:8080/"
        },
        "id": "_6o7eHD2NmjU",
        "outputId": "4bd5d76f-85c2-4823-8f99-5b6202cdd33c"
      },
      "execution_count": null,
      "outputs": [
        {
          "output_type": "stream",
          "name": "stdout",
          "text": [
            "found piiig\n"
          ]
        }
      ]
    },
    {
      "cell_type": "code",
      "source": [
        "match = re.search(r'\\d\\d\\d', 'p123g')\n",
        "\n",
        "if match:\n",
        "  print('found',match.group())\n",
        "else:\n",
        "  print('Not Found')"
      ],
      "metadata": {
        "colab": {
          "base_uri": "https://localhost:8080/"
        },
        "id": "mCWjAXfgVea-",
        "outputId": "939e12dc-6344-49ff-d266-023a5d7a3748"
      },
      "execution_count": 26,
      "outputs": [
        {
          "output_type": "stream",
          "name": "stdout",
          "text": [
            "found 123\n"
          ]
        }
      ]
    },
    {
      "cell_type": "code",
      "source": [
        "match = re.search(r'\\w\\w\\w', 'p123acbg')\n",
        "\n",
        "if match:\n",
        "  print('found',match.group())\n",
        "else:\n",
        "  print('Not Found')"
      ],
      "metadata": {
        "colab": {
          "base_uri": "https://localhost:8080/"
        },
        "id": "IB2RSl1XVrXJ",
        "outputId": "5ff870db-38d9-4cae-a8fe-a366710106b6"
      },
      "execution_count": 27,
      "outputs": [
        {
          "output_type": "stream",
          "name": "stdout",
          "text": [
            "found p12\n"
          ]
        }
      ]
    },
    {
      "cell_type": "code",
      "source": [
        "match = re.search(r'\\w\\w\\w', '!1@#$acbg')\n",
        "\n",
        "if match:\n",
        "  print('found',match.group())\n",
        "else:\n",
        "  print('Not Found')"
      ],
      "metadata": {
        "colab": {
          "base_uri": "https://localhost:8080/"
        },
        "id": "m4SQTTzBV05i",
        "outputId": "6db6b20d-b716-469b-b645-f5cc56e89d05"
      },
      "execution_count": 30,
      "outputs": [
        {
          "output_type": "stream",
          "name": "stdout",
          "text": [
            "found acb\n"
          ]
        }
      ]
    },
    {
      "cell_type": "code",
      "source": [
        "match = re.search(r'pi+','piiit')\n",
        "\n",
        "if match:\n",
        "  print('found', match.group())\n",
        "else:\n",
        "  print('not found')\n"
      ],
      "metadata": {
        "colab": {
          "base_uri": "https://localhost:8080/"
        },
        "id": "gGfuu7B7WQp3",
        "outputId": "fb196e60-b65b-4d78-c426-4b2b40677edc"
      },
      "execution_count": 32,
      "outputs": [
        {
          "output_type": "stream",
          "name": "stdout",
          "text": [
            "found piii\n"
          ]
        }
      ]
    },
    {
      "cell_type": "code",
      "source": [
        "match = re.search(r'i+','piiitiii')\n",
        "\n",
        "if match:\n",
        "  print('found', match.group())\n",
        "else:\n",
        "  print('not found')"
      ],
      "metadata": {
        "colab": {
          "base_uri": "https://localhost:8080/"
        },
        "id": "H9VDFh0UWywb",
        "outputId": "4fa82b29-2e4d-46f7-f83b-b5d97ad512e9"
      },
      "execution_count": 33,
      "outputs": [
        {
          "output_type": "stream",
          "name": "stdout",
          "text": [
            "found iii\n"
          ]
        }
      ]
    },
    {
      "cell_type": "code",
      "source": [
        "match = re.search(r'\\d\\s*\\d\\s*\\d','xx1 2   3xx')\n",
        "\n",
        "if match:\n",
        "  print(r'found',match.group())\n",
        "else:\n",
        "  print('Not Found')"
      ],
      "metadata": {
        "colab": {
          "base_uri": "https://localhost:8080/"
        },
        "id": "9xLpopPMW_jN",
        "outputId": "d8716979-45ae-4380-a1d8-ac0e1f551b54"
      },
      "execution_count": 35,
      "outputs": [
        {
          "output_type": "stream",
          "name": "stdout",
          "text": [
            "found 1 2   3\n"
          ]
        }
      ]
    },
    {
      "cell_type": "code",
      "source": [
        "match = re.search(r'\\d\\s*\\d\\s*\\d', 'xx12  3xx')\n",
        "\n",
        "if match:\n",
        "  print('found',match.group())\n",
        "else:\n",
        "  print(\"Not found\")"
      ],
      "metadata": {
        "colab": {
          "base_uri": "https://localhost:8080/"
        },
        "id": "yRqISJbyYbOy",
        "outputId": "c848152c-d193-4fc3-a597-98904159a55d"
      },
      "execution_count": 37,
      "outputs": [
        {
          "output_type": "stream",
          "name": "stdout",
          "text": [
            "found 12  3\n"
          ]
        }
      ]
    },
    {
      "cell_type": "code",
      "source": [
        "match = re.search(r'\\s*\\s*', 'xx12  3xx')\n",
        "\n",
        "if match:\n",
        "  print('found',match.group())\n",
        "else:\n",
        "  print(\"Not found\")"
      ],
      "metadata": {
        "colab": {
          "base_uri": "https://localhost:8080/"
        },
        "id": "QS8T1ln7Y4Sg",
        "outputId": "87be7e78-b29b-4c5a-f395-ded2577a29f9"
      },
      "execution_count": 38,
      "outputs": [
        {
          "output_type": "stream",
          "name": "stdout",
          "text": [
            "found \n"
          ]
        }
      ]
    },
    {
      "cell_type": "code",
      "source": [
        "match = re.search(r'\\d\\s*\\d\\s*\\d', 'xx123xx')\n",
        "\n",
        "if match:\n",
        "  print('found',match.group())\n",
        "else:\n",
        "  print('Not Found')"
      ],
      "metadata": {
        "colab": {
          "base_uri": "https://localhost:8080/"
        },
        "id": "354k6HC0ZBEN",
        "outputId": "1bd4e519-96e4-4ca9-ae33-105035b5bd0c"
      },
      "execution_count": 39,
      "outputs": [
        {
          "output_type": "stream",
          "name": "stdout",
          "text": [
            "found 123\n"
          ]
        }
      ]
    },
    {
      "cell_type": "code",
      "source": [
        "match = re.search(r' ^b\\w+', 'foobar')\n",
        "\n",
        "if match:\n",
        "  print('found', match.group())\n",
        "else:\n",
        "  print(\"Not Found\")"
      ],
      "metadata": {
        "colab": {
          "base_uri": "https://localhost:8080/"
        },
        "id": "B1tRrX-VZeVt",
        "outputId": "481a9f48-4b19-4040-f269-2ffd3003a724"
      },
      "execution_count": 40,
      "outputs": [
        {
          "output_type": "stream",
          "name": "stdout",
          "text": [
            "Not Found\n"
          ]
        }
      ]
    },
    {
      "cell_type": "code",
      "source": [
        "match = re.search(r'b\\w+','foobar')\n",
        "\n",
        "if match:\n",
        "  print(r'found',match.group())\n",
        "else:\n",
        "  print(\"Not found\")\n"
      ],
      "metadata": {
        "colab": {
          "base_uri": "https://localhost:8080/"
        },
        "id": "7W6OBtC4ZwXf",
        "outputId": "1db42a25-8e25-48fb-d2ed-a6e8daeff8f9"
      },
      "execution_count": 41,
      "outputs": [
        {
          "output_type": "stream",
          "name": "stdout",
          "text": [
            "found bar\n"
          ]
        }
      ]
    },
    {
      "cell_type": "code",
      "source": [
        "match = re.search(r'o\\w+','foobar')\n",
        "\n",
        "if match:\n",
        "  print(r'found',match.group())\n",
        "else:\n",
        "  print(\"Not found\")"
      ],
      "metadata": {
        "colab": {
          "base_uri": "https://localhost:8080/"
        },
        "id": "ub9LYKPjaLLz",
        "outputId": "21bce5b2-ff9b-4bfa-bc18-17ded10c1674"
      },
      "execution_count": 43,
      "outputs": [
        {
          "output_type": "stream",
          "name": "stdout",
          "text": [
            "found oobar\n"
          ]
        }
      ]
    },
    {
      "cell_type": "code",
      "source": [
        "str = 'purple alice-b@google.com monkey dishwasher'\n",
        "match = re.search(r'\\w+@\\w+', str)\n",
        "\n",
        "if match:\n",
        "  print('found email',match.group())\n",
        "else:\n",
        "  print('Not Found Email')"
      ],
      "metadata": {
        "colab": {
          "base_uri": "https://localhost:8080/"
        },
        "id": "CiTPxMjzadlH",
        "outputId": "8555e295-7a4b-41e8-92bb-d61a318f6afc"
      },
      "execution_count": 44,
      "outputs": [
        {
          "output_type": "stream",
          "name": "stdout",
          "text": [
            "found email b@google\n"
          ]
        }
      ]
    },
    {
      "cell_type": "code",
      "source": [
        "str2 = 'being my_mail-is@google.com as a admin'\n",
        "match = re.search(r'[\\w.-]+@[\\w.-]+',str2)\n",
        "\n",
        "if match:\n",
        "  print('found email as: ', match.group())\n",
        "else:\n",
        "  print('Not Found')"
      ],
      "metadata": {
        "colab": {
          "base_uri": "https://localhost:8080/"
        },
        "id": "Z8eqNLoMbGo_",
        "outputId": "6d95d21f-0eb5-43c7-dd20-1d2ab48bd9d7"
      },
      "execution_count": 55,
      "outputs": [
        {
          "output_type": "stream",
          "name": "stdout",
          "text": [
            "found email as:  my_mail-is@google.com\n"
          ]
        }
      ]
    },
    {
      "cell_type": "code",
      "source": [
        "match = re.search(r'([\\w.-]+)@([\\w.-]+)', str2)\n",
        "\n",
        "if match:\n",
        "  print('found email:',match.group())\n",
        "  print('\\nfound username as: ', match.group(1))\n",
        "  print('\\nfound the host as : ', match.group(2))\n",
        "else:\n",
        "  print('Not Found')"
      ],
      "metadata": {
        "colab": {
          "base_uri": "https://localhost:8080/"
        },
        "id": "ADiIgWS6c56R",
        "outputId": "070c922a-cb26-4730-d848-6229ac6c02b1"
      },
      "execution_count": 56,
      "outputs": [
        {
          "output_type": "stream",
          "name": "stdout",
          "text": [
            "found email: my_mail-is@google.com\n",
            "\n",
            "found username as:  my_mail-is\n",
            "\n",
            "found the host as :  google.com\n"
          ]
        }
      ]
    },
    {
      "cell_type": "code",
      "source": [
        "str3 = 'purple alice_b@google.com, blah monkey bob.123@abc.com blah dishwaher'\n",
        "emails = re.findall(r'[\\w\\.-]+@[\\w\\.-]+', str3)\n",
        "print(\"The Email Id's in the given data are:\")\n",
        "for emails in emails:\n",
        "  print('\\t',emails)"
      ],
      "metadata": {
        "colab": {
          "base_uri": "https://localhost:8080/"
        },
        "id": "CKm9rSUteTkn",
        "outputId": "2ad6af7a-decf-4ae1-d540-ed1e1b8549e1"
      },
      "execution_count": 61,
      "outputs": [
        {
          "output_type": "stream",
          "name": "stdout",
          "text": [
            "The Email Id's in the given data are:\n",
            "\t alice_b@google.com\n",
            "\t bob.123@abc.com\n"
          ]
        }
      ]
    },
    {
      "cell_type": "code",
      "source": [
        "str3 = 'purple alice_b@google.com, blah monkey bob.123@abc.com blah dishwaher'\n",
        "emails = re.findall(r'[\\w\\.-]+@[\\w\\.-]+', str3)\n",
        "print(\"The Email Id's in the given data are:\")\n",
        "for emails in emails:\n",
        "  print('\\t',emails)"
      ],
      "metadata": {
        "colab": {
          "base_uri": "https://localhost:8080/"
        },
        "id": "hTRbSEhXjZLO",
        "outputId": "e7a48e82-1cf1-438a-b65a-50b2f31a6bf7"
      },
      "execution_count": 65,
      "outputs": [
        {
          "output_type": "stream",
          "name": "stdout",
          "text": [
            "The Email Id's in the given data are:\n",
            "\t alice_b@google.com\n",
            "\t bob.123@abc.com\n"
          ]
        }
      ]
    },
    {
      "cell_type": "code",
      "source": [
        "f = open('ex26.txt','r')\n",
        "strings = re.findall(r'e\\w+', f.read())\n",
        "for strings in strings:\n",
        "  print(strings)"
      ],
      "metadata": {
        "colab": {
          "base_uri": "https://localhost:8080/"
        },
        "id": "tco8i5OPkYuY",
        "outputId": "c54758b1-90ac-4e8a-c868-28e8313a6385"
      },
      "execution_count": 70,
      "outputs": [
        {
          "output_type": "stream",
          "name": "stdout",
          "text": [
            "end\n",
            "end\n",
            "eigh\n",
            "end\n",
            "eight\n",
            "eight\n",
            "eight\n",
            "eavy\n",
            "ename\n",
            "en\n",
            "enme\n",
            "ere\n",
            "ename\n",
            "ead\n",
            "ename\n",
            "e_again\n",
            "en\n",
            "e_again\n",
            "ead\n",
            "et\n",
            "everything\n",
            "eed\n",
            "escapes\n",
            "ewlines\n",
            "em\n",
            "ely\n",
            "ed\n",
            "ern\n",
            "eeds\n",
            "ehend\n",
            "equires\n",
            "explanation\n",
            "ere\n",
            "ere\n",
            "em\n",
            "ef\n",
            "ecret_formula\n",
            "ed\n",
            "elly_beans\n",
            "ed\n",
            "elly_beans\n",
            "es\n",
            "eturn\n",
            "elly_beans\n",
            "es\n",
            "eans\n",
            "ecret_formula\n",
            "emember\n",
            "er\n",
            "eans\n",
            "eans\n",
            "es\n",
            "es\n",
            "ecret_formula\n",
            "easy\n",
            "eans\n",
            "es\n",
            "eople\n",
            "es\n",
            "eople\n",
            "ed\n",
            "eople\n",
            "ed\n",
            "eople\n",
            "ed\n",
            "eople\n",
            "eople\n",
            "eople\n",
            "eater\n",
            "equal\n",
            "eople\n",
            "eople\n",
            "ess\n",
            "equal\n",
            "eople\n",
            "eople\n"
          ]
        }
      ]
    },
    {
      "cell_type": "code",
      "source": [
        "str3 = 'purple alice_b@google.com, blah monkey bob.123@abc.com blah dishwaher'\n",
        "tuples = re.findall(r'([\\w\\.-]+)@([\\w\\.-]+)', str3)\n",
        "print(tuples)\n",
        "for tuple in tuples:\n",
        "  print('Username: ',tuple[0])\n",
        "  print('Host: ',tuple[1])\n"
      ],
      "metadata": {
        "colab": {
          "base_uri": "https://localhost:8080/"
        },
        "id": "jP-A9gFvlkFW",
        "outputId": "58782c01-5976-4ec0-a16a-f9d17d076f6e"
      },
      "execution_count": 74,
      "outputs": [
        {
          "output_type": "stream",
          "name": "stdout",
          "text": [
            "[('alice_b', 'google.com'), ('bob.123', 'abc.com')]\n",
            "Username:  alice_b\n",
            "Host:  google.com\n",
            "Username:  bob.123\n",
            "Host:  abc.com\n"
          ]
        }
      ]
    },
    {
      "cell_type": "code",
      "source": [
        "rep = re.sub(r'([\\w\\.-]+)@([\\w\\w.-]+)',r'\\1@yo-yo-dyne.com', str3)\n",
        "print(rep)"
      ],
      "metadata": {
        "colab": {
          "base_uri": "https://localhost:8080/"
        },
        "id": "Rn58fW08wgQj",
        "outputId": "70068b38-9d91-41da-cd4c-507b22923da2"
      },
      "execution_count": 75,
      "outputs": [
        {
          "output_type": "stream",
          "name": "stdout",
          "text": [
            "purple alice_b@yo-yo-dyne.com, blah monkey bob.123@yo-yo-dyne.com blah dishwaher\n"
          ]
        }
      ]
    },
    {
      "cell_type": "code",
      "source": [
        "rep = re.sub(r'([\\w\\.-]+)@([\\w\\w.-]+)',r'\\1@yo-yo-dyne.com', str3)\n",
        "print(rep)"
      ],
      "metadata": {
        "colab": {
          "base_uri": "https://localhost:8080/"
        },
        "id": "7pJkMbQCxN4A",
        "outputId": "a6da39fa-413f-47aa-97d3-3ae4c01f2aae"
      },
      "execution_count": 78,
      "outputs": [
        {
          "output_type": "stream",
          "name": "stdout",
          "text": [
            "purple alice_b@yo-yo-dyne.com, blah monkey bob.123@yo-yo-dyne.com blah dishwaher\n"
          ]
        }
      ]
    }
  ]
}